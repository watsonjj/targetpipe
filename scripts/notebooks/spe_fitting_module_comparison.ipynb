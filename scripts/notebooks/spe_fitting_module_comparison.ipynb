{
 "cells": [
  {
   "cell_type": "markdown",
   "metadata": {},
   "source": [
    "# SPE FITTING MODULE COMPARISON\n",
    "This notebook demonstrates how to use 3 different modules (scipy.optimize.curve_fit, symfit and iminuit) to fit the Single Photo-Electron Pulse Area Spectrum."
   ]
  },
  {
   "cell_type": "code",
   "execution_count": 1,
   "metadata": {
    "collapsed": false
   },
   "outputs": [
    {
     "name": "stdout",
     "output_type": "stream",
     "text": [
      "Populating the interactive namespace from numpy and matplotlib\n"
     ]
    }
   ],
   "source": [
    "#%matplotlib inline\n",
    "%pylab inline\n",
    "from matplotlib import pyplot as plt\n",
    "import numpy as np\n",
    "import symfit\n",
    "import scipy\n",
    "import iminuit"
   ]
  },
  {
   "cell_type": "code",
   "execution_count": 2,
   "metadata": {
    "collapsed": true
   },
   "outputs": [],
   "source": [
    "hist_a = np.array([   6,    6,    5,   13,    4,   10,   20,   62,  276,  889, 1102,\n",
    "        678,  378,  299,  329,  347,  349,  368,  344,  363,  319,  298,\n",
    "        291,  260,  268,  212,  204,  203,  190,  161,  153,  143,  129,\n",
    "        133,  116,   83,  104,   83,   92,   64])\n",
    "edges_a = np.array([-20., -18., -16., -14., -12., -10.,  -8.,  -6.,  -4.,  -2.,   0.,\n",
    "         2.,   4.,   6.,   8.,  10.,  12.,  14.,  16.,  18.,  20.,  22.,\n",
    "        24.,  26.,  28.,  30.,  32.,  34.,  36.,  38.,  40.,  42.,  44.,\n",
    "        46.,  48.,  50.,  52.,  54.,  56.,  58.,  60.])\n",
    "between_a = (edges_a[1:] + edges_a[:-1]) / 2"
   ]
  },
  {
   "cell_type": "code",
   "execution_count": 3,
   "metadata": {
    "collapsed": true
   },
   "outputs": [],
   "source": [
    "hist_a2 = np.array([   1,    3,    7,    5,    3,   10,   18,   69,  302,  982, 1322,\n",
    "        660,  381,  332,  314,  357,  340,  343,  321,  317,  297,  300,\n",
    "        303,  246,  224,  230,  200,  203,  182,  152,  164,  153,  105,\n",
    "        108,  108,   83,  102,   83,   79,   69])\n",
    "edges_a2 = np.array([-20., -18., -16., -14., -12., -10.,  -8.,  -6.,  -4.,  -2.,   0.,\n",
    "         2.,   4.,   6.,   8.,  10.,  12.,  14.,  16.,  18.,  20.,  22.,\n",
    "        24.,  26.,  28.,  30.,  32.,  34.,  36.,  38.,  40.,  42.,  44.,\n",
    "        46.,  48.,  50.,  52.,  54.,  56.,  58.,  60.])\n",
    "between_a2 = (edges_a2[1:] + edges_a2[:-1]) / 2"
   ]
  },
  {
   "cell_type": "code",
   "execution_count": 4,
   "metadata": {
    "collapsed": true
   },
   "outputs": [],
   "source": [
    "hist_a3 = np.array([   4,    2,    4,    5,    9,    8,   20,   76,  298, 1000, 1280,\n",
    "        709,  393,  341,  328,  330,  352,  334,  348,  317,  328,  280,\n",
    "        261,  271,  248,  234,  203,  206,  169,  146,  146,  125,  108,\n",
    "        121,   82,   89,   72,   78,   70,   58])\n",
    "edges_a3 = np.array([-20., -18., -16., -14., -12., -10.,  -8.,  -6.,  -4.,  -2.,   0.,\n",
    "         2.,   4.,   6.,   8.,  10.,  12.,  14.,  16.,  18.,  20.,  22.,\n",
    "        24.,  26.,  28.,  30.,  32.,  34.,  36.,  38.,  40.,  42.,  44.,\n",
    "        46.,  48.,  50.,  52.,  54.,  56.,  58.,  60.])\n",
    "between_a3 = (edges_a3[1:] + edges_a3[:-1]) / 2"
   ]
  },
  {
   "cell_type": "code",
   "execution_count": 5,
   "metadata": {
    "collapsed": true
   },
   "outputs": [],
   "source": [
    "def gaussian(x, a, mu, sigma):\n",
    "    return a * np.exp(-(x - mu) ** 2 / (2. * sigma ** 2))"
   ]
  },
  {
   "cell_type": "code",
   "execution_count": 6,
   "metadata": {
    "collapsed": true
   },
   "outputs": [],
   "source": [
    "def gaussian_sym(x, a, mu, sigma):\n",
    "    return a * symfit.exp(-(x - mu) ** 2 / (2. * sigma ** 2))"
   ]
  },
  {
   "cell_type": "code",
   "execution_count": 7,
   "metadata": {
    "collapsed": true
   },
   "outputs": [],
   "source": [
    "def mapm_spe_fit(x, norm, eped, eped_sigma, spe, spe_sigma, lambda_):\n",
    "    \"\"\"\n",
    "    Fit for the SPE spectrum of a MAPM\n",
    "\n",
    "    Parameters\n",
    "    ----------\n",
    "    x\n",
    "    norm : float\n",
    "        Integral of the zeroth peak in the distribution, represents p(0)\n",
    "    eped : float\n",
    "        Distance of the zeroth peak from the origin\n",
    "    eped_sigma : float\n",
    "        Sigma of the zeroth peak, represents electronic noise of the system\n",
    "    spe : float\n",
    "        Signal produced by 1 photo-electron\n",
    "    spe_sigma : float\n",
    "        Spread in the number of photo-electrons incident on the MAPMT\n",
    "    lambda_ : float\n",
    "        Poisson mean\n",
    "\n",
    "    \"\"\"\n",
    "\n",
    "    knorm=1.0/np.sqrt(2*3.1415926)\n",
    "\n",
    "    # Determines kmax, minimum 2, sets up the poisson distribution\n",
    "    steps = 11\n",
    "    p = [None] * steps\n",
    "    p[0] = np.exp(-lambda_)\n",
    "\n",
    "    for n in range(1, steps):\n",
    "        p[n] = p[n-1] * lambda_ / n\n",
    "\n",
    "    # Work out the distribution for 0, then add in the contributions for k=1, k=2...\n",
    "    eped_sigma2 = eped_sigma**2\n",
    "    spe_sigma2 = spe_sigma**2\n",
    "    signal = knorm * norm * p[0] * gaussian(x, 1, eped, eped_sigma) / eped_sigma\n",
    "    for n in range(1, steps):\n",
    "        pe = eped + n * spe\n",
    "        pe_sigma = np.sqrt(n * spe_sigma2 + eped_sigma2)\n",
    "        signal += knorm * norm * p[n] * gaussian(x, 1, pe, pe_sigma) / pe_sigma\n",
    "\n",
    "    return signal"
   ]
  },
  {
   "cell_type": "code",
   "execution_count": 8,
   "metadata": {
    "collapsed": true
   },
   "outputs": [],
   "source": [
    "def mapm_spe_fit_sym(x, norm, eped, eped_sigma, spe, spe_sigma, lambda_):\n",
    "    \"\"\"\n",
    "    Fit for the SPE spectrum of a MAPM\n",
    "\n",
    "    Parameters\n",
    "    ----------\n",
    "    x\n",
    "    norm : float\n",
    "        Integral of the zeroth peak in the distribution, represents p(0)\n",
    "    eped : float\n",
    "        Distance of the zeroth peak from the origin\n",
    "    eped_sigma : float\n",
    "        Sigma of the zeroth peak, represents electronic noise of the system\n",
    "    spe : float\n",
    "        Signal produced by 1 photo-electron\n",
    "    spe_sigma : float\n",
    "        Spread in the number of photo-electrons incident on the MAPMT\n",
    "    lambda_ : float\n",
    "        Poisson mean\n",
    "\n",
    "    \"\"\"\n",
    "\n",
    "    knorm=1.0/np.sqrt(2*3.1415926)\n",
    "\n",
    "    # Determines kmax, minimum 2, sets up the poisson distribution\n",
    "    steps = 11\n",
    "    p = [None] * steps\n",
    "    p[0] = symfit.exp(-lambda_)\n",
    "\n",
    "    for n in range(1, steps):\n",
    "        p[n] = p[n-1] * lambda_ / n\n",
    "\n",
    "    # Work out the distribution for 0, then add in the contributions for k=1, k=2...\n",
    "    eped_sigma2 = eped_sigma**2\n",
    "    spe_sigma2 = spe_sigma**2\n",
    "    signal = knorm * norm * p[0] * gaussian_sym(x, 1, eped, eped_sigma) / eped_sigma\n",
    "    for n in range(1, steps):\n",
    "        pe = eped + n * spe\n",
    "        pe_sigma = symfit.sqrt(n * spe_sigma2 + eped_sigma2)\n",
    "        signal += knorm * norm * p[n] * gaussian_sym(x, 1, pe, pe_sigma) / pe_sigma\n",
    "\n",
    "    return signal"
   ]
  },
  {
   "cell_type": "code",
   "execution_count": 9,
   "metadata": {
    "collapsed": true
   },
   "outputs": [],
   "source": [
    "def mapm_spe_fit_multi(x, norm, eped, eped_sigma, spe, spe_sigma, lambda_, norm2, lambda_2, norm3, lambda_3):\n",
    "    l1 = between_a.size\n",
    "    l2 = between_a2.size\n",
    "    l3 = between_a3.size\n",
    "    \n",
    "    x1 = x[:l1]\n",
    "    x2 = x[l1:l1+l2]\n",
    "    x3 = x[l1+l2:l1+l2+l3]\n",
    "    \n",
    "    a = np.hstack([mapm_spe_fit(x1, norm, eped, eped_sigma, spe, spe_sigma, lambda_),\n",
    "                   mapm_spe_fit(x2, norm2, eped, eped_sigma, spe, spe_sigma, lambda_2),\n",
    "                   mapm_spe_fit(x3, norm3, eped, eped_sigma, spe, spe_sigma, lambda_3)])\n",
    "    return a"
   ]
  },
  {
   "cell_type": "markdown",
   "metadata": {},
   "source": [
    "# SciPy curve_fit\n",
    "\n",
    "## Pros\n",
    "* No extra dependency\n",
    "* Simple\n",
    "* Function based\n",
    "* Similar to ROOT\n",
    "\n",
    "## Cons\n",
    "* Multi-fit is a hack\n",
    "* Fixed values is a hack\n",
    "* Only least-squares\n",
    "\n",
    "### Single Fit"
   ]
  },
  {
   "cell_type": "code",
   "execution_count": 10,
   "metadata": {
    "collapsed": false
   },
   "outputs": [],
   "source": [
    "def scipy_fit(x, y):\n",
    "    p0 = [1000, 0, 5, 20, 5, 1]\n",
    "    coeff, var_matrix = scipy.optimize.curve_fit(mapm_spe_fit, x, y, p0=p0)\n",
    "    scipy_y_result = mapm_spe_fit(x, *coeff)\n",
    "    return scipy_y_result\n",
    "scipy_y_result = scipy_fit(between_a, hist_a)\n",
    "scipy_y_result2 = scipy_fit(between_a2, hist_a2)\n",
    "scipy_y_result3 = scipy_fit(between_a3, hist_a3)\n",
    "#%timeit scipy_fit(between_a, hist_a)"
   ]
  },
  {
   "cell_type": "markdown",
   "metadata": {},
   "source": [
    "On my system this fit takes 16 ms to complete"
   ]
  },
  {
   "cell_type": "markdown",
   "metadata": {},
   "source": [
    "### Multi Fit"
   ]
  },
  {
   "cell_type": "code",
   "execution_count": 11,
   "metadata": {
    "collapsed": false
   },
   "outputs": [],
   "source": [
    "x_data = np.hstack([between_a, between_a2, between_a3])\n",
    "y_data = np.hstack([hist_a, hist_a2, hist_a3])\n",
    "p0 = [1000, 0, 5, 20, 5, 1, 1000, 1, 1000, 1]\n",
    "coeff, var_matrix = scipy.optimize.curve_fit(mapm_spe_fit_multi, x_data, y_data, p0=p0)\n",
    "scipy_y_result_multi_all = mapm_spe_fit_multi(x_data, *coeff)\n",
    "\n",
    "l1 = between_a.size\n",
    "l2 = between_a2.size\n",
    "l3 = between_a3.size\n",
    "\n",
    "scipy_y_result_multi = scipy_y_result_multi_all[:l1]\n",
    "scipy_y_result_multi2 = scipy_y_result_multi_all[l1:l1+l2]\n",
    "scipy_y_result_multi3 = scipy_y_result_multi_all[l1+l2:l1+l2+l3]"
   ]
  },
  {
   "cell_type": "markdown",
   "metadata": {},
   "source": [
    "# SymFit\n",
    "\n",
    "## Pros\n",
    "* Clean\n",
    "* Multi-fit is a feature\n",
    "* Fixed values is a feature\n",
    "* Has other minimizers\n",
    "\n",
    "## Cons\n",
    "* Uses symbolic mathematics (creates function once, no interactivity/conditions)\n",
    "\n",
    "### Single Fit"
   ]
  },
  {
   "cell_type": "code",
   "execution_count": 12,
   "metadata": {
    "collapsed": false
   },
   "outputs": [],
   "source": [
    "def symfit_fit(x_in, y_in):\n",
    "    x, y = symfit.variables('x, y')\n",
    "    norm, eped, eped_sigma, spe, spe_sigma, lambda_ = symfit.parameters('norm, eped, eped_sigma, spe, spe_sigma, lambda_')\n",
    "    norm.value = 1000\n",
    "    eped.value = 0\n",
    "    eped_sigma.value = 5\n",
    "    spe.value = 20\n",
    "    spe_sigma.value = 5\n",
    "    lambda_.value = 1\n",
    "    model = {y: mapm_spe_fit_sym(x, norm, eped, eped_sigma, spe, spe_sigma, lambda_)}\n",
    "\n",
    "    fit = symfit.Fit(model, x=x_in, y=y_in)\n",
    "    fit_result = fit.execute()\n",
    "    symfit_y_result = fit.model(x=x_in, **fit_result.params)[0]\n",
    "    return symfit_y_result\n",
    "symfit_y_result = symfit_fit(between_a, hist_a)\n",
    "symfit_y_result2 = symfit_fit(between_a2, hist_a2)\n",
    "symfit_y_result3 = symfit_fit(between_a3, hist_a3)\n",
    "#%timeit symfit_fit(between_a, hist_a)"
   ]
  },
  {
   "cell_type": "markdown",
   "metadata": {},
   "source": [
    "On my system this fit takes 7.5 s to complete"
   ]
  },
  {
   "cell_type": "code",
   "execution_count": 13,
   "metadata": {
    "collapsed": false
   },
   "outputs": [
    {
     "name": "stdout",
     "output_type": "stream",
     "text": [
      "Symbolic Mathematics: \n",
      "\n",
      " 1.0993779866734e-7*lambda_**10*norm*exp(-lambda_)*exp(-(-eped - 10*spe + x)**2/(2.0*eped_sigma**2 + 20.0*spe_sigma**2))/sqrt(eped_sigma**2 + 10*spe_sigma**2) + 1.0993779866734e-6*lambda_**9*norm*exp(-lambda_)*exp(-(-eped - 9*spe + x)**2/(2.0*eped_sigma**2 + 18.0*spe_sigma**2))/sqrt(eped_sigma**2 + 9*spe_sigma**2) + 9.8944018800606e-6*lambda_**8*norm*exp(-lambda_)*exp(-(-eped - 8*spe + x)**2/(2.0*eped_sigma**2 + 16.0*spe_sigma**2))/sqrt(eped_sigma**2 + 8*spe_sigma**2) + 7.91552150404848e-5*lambda_**7*norm*exp(-lambda_)*exp(-(-eped - 7*spe + x)**2/(2.0*eped_sigma**2 + 14.0*spe_sigma**2))/sqrt(eped_sigma**2 + 7*spe_sigma**2) + 0.000554086505283394*lambda_**6*norm*exp(-lambda_)*exp(-(-eped - 6*spe + x)**2/(2.0*eped_sigma**2 + 12.0*spe_sigma**2))/sqrt(eped_sigma**2 + 6*spe_sigma**2) + 0.00332451903170036*lambda_**5*norm*exp(-lambda_)*exp(-(-eped - 5*spe + x)**2/(2.0*eped_sigma**2 + 10.0*spe_sigma**2))/sqrt(eped_sigma**2 + 5*spe_sigma**2) + 0.0166225951585018*lambda_**4*norm*exp(-lambda_)*exp(-(-eped - 4*spe + x)**2/(2.0*eped_sigma**2 + 8.0*spe_sigma**2))/sqrt(eped_sigma**2 + 4*spe_sigma**2) + 0.0664903806340073*lambda_**3*norm*exp(-lambda_)*exp(-(-eped - 3*spe + x)**2/(2.0*eped_sigma**2 + 6.0*spe_sigma**2))/sqrt(eped_sigma**2 + 3*spe_sigma**2) + 0.199471141902022*lambda_**2*norm*exp(-lambda_)*exp(-(-eped - 2*spe + x)**2/(2.0*eped_sigma**2 + 4.0*spe_sigma**2))/sqrt(eped_sigma**2 + 2*spe_sigma**2) + 0.398942283804044*lambda_*norm*exp(-lambda_)*exp(-(-eped - spe + x)**2/(2.0*eped_sigma**2 + 2.0*spe_sigma**2))/sqrt(eped_sigma**2 + spe_sigma**2) + 0.398942283804044*norm*exp(-lambda_)*exp(-0.5*(-eped + x)**2/eped_sigma**2)/eped_sigma\n"
     ]
    }
   ],
   "source": [
    "x, y = symfit.variables('x, y')\n",
    "norm, eped, eped_sigma, spe, spe_sigma, lambda_ = symfit.parameters('norm, eped, eped_sigma, spe, spe_sigma, lambda_')\n",
    "print(\"Symbolic Mathematics: \\n\\n\", mapm_spe_fit_sym(x, norm, eped, eped_sigma, spe, spe_sigma, lambda_))"
   ]
  },
  {
   "cell_type": "markdown",
   "metadata": {},
   "source": [
    "The symbolic mathematics (the fit equation) are printed above."
   ]
  },
  {
   "cell_type": "markdown",
   "metadata": {},
   "source": [
    "### Multi Fit\n",
    "\n",
    "Below is how multi fit in symfit should work, but I cannot get it to work...despite it being the one solution that should have this feature built-in."
   ]
  },
  {
   "cell_type": "code",
   "execution_count": 14,
   "metadata": {
    "collapsed": false
   },
   "outputs": [
    {
     "data": {
      "text/plain": [
       "\"\\nx1, x2, x3, y1, y2, y3 = symfit.variables('x1, x2, x3, y1, y2, y3')\\nnorm, eped, eped_sigma, spe, spe_sigma, lambda_, norm2, lambda_2, norm3, lambda_3 = symfit.parameters('norm, eped, eped_sigma, spe, spe_sigma, lambda_, norm2, lambda_2, norm3, lambda_3')\\nnorm.value = 10000\\neped.value = 0\\neped_sigma.value = 5\\nspe.value = 20\\nspe_sigma.value = 5\\nlambda_.value = 1\\nnorm2.value = 10000\\nlambda_2.value = 1\\nnorm3.value = 10000\\nlambda_3.value = 1\\nmodel = {y1: mapm_spe_fit_sym(x1, norm, eped, eped_sigma, spe, spe_sigma, lambda_),\\n         y2: mapm_spe_fit_sym(x2, norm2, eped, eped_sigma, spe, spe_sigma, lambda_2),\\n         y3: mapm_spe_fit_sym(x3, norm3, eped, eped_sigma, spe, spe_sigma, lambda_3)}\\n\\nfit = symfit.Fit(model, x1=between_a, x2=between_a2, x3=between_a3, y1=hist_a, y2=hist_a2, y3=hist_a3)\\nfit_result = fit.execute()\\nsymfit_y_result = fit.model(x=between_a, **fit_result.params)\\nprint(symfit_y_result)\\n\""
      ]
     },
     "execution_count": 14,
     "metadata": {},
     "output_type": "execute_result"
    }
   ],
   "source": [
    "\"\"\"\n",
    "x1, x2, x3, y1, y2, y3 = symfit.variables('x1, x2, x3, y1, y2, y3')\n",
    "norm, eped, eped_sigma, spe, spe_sigma, lambda_, norm2, lambda_2, norm3, lambda_3 = symfit.parameters('norm, eped, eped_sigma, spe, spe_sigma, lambda_, norm2, lambda_2, norm3, lambda_3')\n",
    "norm.value = 10000\n",
    "eped.value = 0\n",
    "eped_sigma.value = 5\n",
    "spe.value = 20\n",
    "spe_sigma.value = 5\n",
    "lambda_.value = 1\n",
    "norm2.value = 10000\n",
    "lambda_2.value = 1\n",
    "norm3.value = 10000\n",
    "lambda_3.value = 1\n",
    "model = {y1: mapm_spe_fit_sym(x1, norm, eped, eped_sigma, spe, spe_sigma, lambda_),\n",
    "         y2: mapm_spe_fit_sym(x2, norm2, eped, eped_sigma, spe, spe_sigma, lambda_2),\n",
    "         y3: mapm_spe_fit_sym(x3, norm3, eped, eped_sigma, spe, spe_sigma, lambda_3)}\n",
    "\n",
    "fit = symfit.Fit(model, x1=between_a, x2=between_a2, x3=between_a3, y1=hist_a, y2=hist_a2, y3=hist_a3)\n",
    "fit_result = fit.execute()\n",
    "symfit_y_result = fit.model(x=between_a, **fit_result.params)\n",
    "print(symfit_y_result)\n",
    "\"\"\""
   ]
  },
  {
   "cell_type": "markdown",
   "metadata": {},
   "source": [
    "# iminuit\n",
    "\n",
    "## Pros\n",
    "* Advanced\n",
    "* Fit diagnosis options\n",
    "* Fixed values is a feature\n",
    "\n",
    "## Cons\n",
    "* Advanced\n",
    "* Only a minizer - Need to wrap into a fit function\n",
    "* Multi-fit is a hack (as you have to write your fit function anyway)"
   ]
  },
  {
   "cell_type": "code",
   "execution_count": 15,
   "metadata": {
    "collapsed": false
   },
   "outputs": [
    {
     "data": {
      "text/plain": [
       "0.031867055625524499"
      ]
     },
     "execution_count": 15,
     "metadata": {},
     "output_type": "execute_result"
    }
   ],
   "source": [
    "from scipy.stats.distributions import poisson\n",
    "poisson.pmf(6, 2.6)"
   ]
  },
  {
   "cell_type": "code",
   "execution_count": 16,
   "metadata": {
    "collapsed": false
   },
   "outputs": [],
   "source": [
    "def iminuit_fit(x, y, **fitargs):\n",
    "    def minimizeMeSingle(norm, eped, eped_sigma, spe, spe_sigma, lambda_):\n",
    "        p = mapm_spe_fit(x, norm, eped, eped_sigma, spe, spe_sigma, lambda_)   \n",
    "        like = -2 * poisson.logpmf(y, p)\n",
    "        return np.sum(like)    \n",
    "    m0 = iminuit.Minuit(minimizeMeSingle, print_level=0, pedantic=False, **fitargs)\n",
    "    return m0\n",
    "fitargs = dict(norm=1000, eped=0, eped_sigma=5, spe=20, spe_sigma=5, lambda_=1)\n",
    "m1s = iminuit_fit(between_a, hist_a, **fitargs)\n",
    "m1s.migrad();\n",
    "m2s = iminuit_fit(between_a2, hist_a2, **m1s.values)\n",
    "m2s.migrad();\n",
    "m3s = iminuit_fit(between_a3, hist_a3, **m1s.values)\n",
    "m3s.migrad();\n",
    "iminuit_y_result1 = mapm_spe_fit(between_a, *m1s.args)\n",
    "iminuit_y_result2 = mapm_spe_fit(between_a2, *m2s.args)\n",
    "iminuit_y_result3 = mapm_spe_fit(between_a3, *m3s.args)\n",
    "#%timeit iminuit_fit(between_a, hist_a)\n",
    "#%timeit m1s.migrad();"
   ]
  },
  {
   "cell_type": "markdown",
   "metadata": {},
   "source": [
    "On my system this fit takes 60 ms to complete. The actual fit is performed with m.migrad()!\n",
    "\n",
    "With iminuit we can see the information on the fit:"
   ]
  },
  {
   "cell_type": "code",
   "execution_count": 17,
   "metadata": {
    "collapsed": false
   },
   "outputs": [
    {
     "data": {
      "text/html": [
       "<hr>"
      ]
     },
     "metadata": {},
     "output_type": "display_data"
    },
    {
     "data": {
      "text/html": [
       "\n",
       "        <table>\n",
       "            <tr>\n",
       "                <td title=\"Minimum value of function\">FCN = 377.1162695866486</td>\n",
       "                <td title=\"Total number of call to FCN so far\">TOTAL NCALL = 390</td>\n",
       "                <td title=\"Number of call in last migrad\">NCALLS = 30</td>\n",
       "            </tr>\n",
       "            <tr>\n",
       "                <td title=\"Estimated distance to minimum\">EDM = 4.531307431395347e-12</td>\n",
       "                <td title=\"Maximum EDM definition of convergence\">GOAL EDM = 1e-05</td>\n",
       "                <td title=\"Error def. Amount of increase in FCN to be defined as 1 standard deviation\">\n",
       "                UP = 1.0</td>\n",
       "            </tr>\n",
       "        </table>\n",
       "        \n",
       "        <table>\n",
       "            <tr>\n",
       "                <td align=\"center\" title=\"Validity of the migrad call\">Valid</td>\n",
       "                <td align=\"center\" title=\"Validity of parameters\">Valid Param</td>\n",
       "                <td align=\"center\" title=\"Is Covariance matrix accurate?\">Accurate Covar</td>\n",
       "                <td align=\"center\" title=\"Positive definiteness of covariance matrix\">PosDef</td>\n",
       "                <td align=\"center\" title=\"Was covariance matrix made posdef by adding diagonal element\">Made PosDef</td>\n",
       "            </tr>\n",
       "            <tr>\n",
       "                <td align=\"center\" style=\"background-color:#92CCA6\">True</td>\n",
       "                <td align=\"center\" style=\"background-color:#92CCA6\">True</td>\n",
       "                <td align=\"center\" style=\"background-color:#92CCA6\">True</td>\n",
       "                <td align=\"center\" style=\"background-color:#92CCA6\">True</td>\n",
       "                <td align=\"center\" style=\"background-color:#92CCA6\">False</td>\n",
       "            </tr>\n",
       "            <tr>\n",
       "                <td align=\"center\" title=\"Was last hesse call fail?\">Hesse Fail</td>\n",
       "                <td align=\"center\" title=\"Validity of covariance\">HasCov</td>\n",
       "                <td align=\"center\" title=\"Is EDM above goal EDM?\">Above EDM</td>\n",
       "                <td align=\"center\"></td>\n",
       "                <td align=\"center\" title=\"Did last migrad call reach max call limit?\">Reach calllim</td>\n",
       "            </tr>\n",
       "            <tr>\n",
       "                <td align=\"center\" style=\"background-color:#92CCA6\">False</td>\n",
       "                <td align=\"center\" style=\"background-color:#92CCA6\">True</td>\n",
       "                <td align=\"center\" style=\"background-color:#92CCA6\">False</td>\n",
       "                <td align=\"center\"></td>\n",
       "                <td align=\"center\" style=\"background-color:#92CCA6\">False</td>\n",
       "            </tr>\n",
       "        </table>\n",
       "        "
      ]
     },
     "metadata": {},
     "output_type": "display_data"
    },
    {
     "data": {
      "text/html": [
       "\n",
       "        <table>\n",
       "            <tr>\n",
       "                <td><a href=\"#\" onclick=\"$('#lqXAvvtVzb').toggle()\">+</a></td>\n",
       "                <td title=\"Variable name\">Name</td>\n",
       "                <td title=\"Value of parameter\">Value</td>\n",
       "                <td title=\"Parabolic error\">Parab Error</td>\n",
       "                <td title=\"Minos lower error\">Minos Error-</td>\n",
       "                <td title=\"Minos upper error\">Minos Error+</td>\n",
       "                <td title=\"Lower limit of the parameter\">Limit-</td>\n",
       "                <td title=\"Upper limit of the parameter\">Limit+</td>\n",
       "                <td title=\"Is the parameter fixed in the fit\">FIXED</td>\n",
       "            </tr>\n",
       "        \n",
       "            <tr>\n",
       "                <td>1</td>\n",
       "                <td>norm</td>\n",
       "                <td>19538.4</td>\n",
       "                <td>206.371</td>\n",
       "                <td>0</td>\n",
       "                <td>0</td>\n",
       "                <td></td>\n",
       "                <td></td>\n",
       "                <td></td>\n",
       "            </tr>\n",
       "            \n",
       "            <tr>\n",
       "                <td>2</td>\n",
       "                <td>eped</td>\n",
       "                <td>0.65485</td>\n",
       "                <td>0.055013</td>\n",
       "                <td>0</td>\n",
       "                <td>0</td>\n",
       "                <td></td>\n",
       "                <td></td>\n",
       "                <td></td>\n",
       "            </tr>\n",
       "            \n",
       "            <tr>\n",
       "                <td>3</td>\n",
       "                <td>eped_sigma</td>\n",
       "                <td>2.10198</td>\n",
       "                <td>0.0489386</td>\n",
       "                <td>0</td>\n",
       "                <td>0</td>\n",
       "                <td></td>\n",
       "                <td></td>\n",
       "                <td></td>\n",
       "            </tr>\n",
       "            \n",
       "            <tr>\n",
       "                <td>4</td>\n",
       "                <td>spe</td>\n",
       "                <td>14.0698</td>\n",
       "                <td>0.251776</td>\n",
       "                <td>0</td>\n",
       "                <td>0</td>\n",
       "                <td></td>\n",
       "                <td></td>\n",
       "                <td></td>\n",
       "            </tr>\n",
       "            \n",
       "            <tr>\n",
       "                <td>5</td>\n",
       "                <td>spe_sigma</td>\n",
       "                <td>9.88648</td>\n",
       "                <td>0.178948</td>\n",
       "                <td>0</td>\n",
       "                <td>0</td>\n",
       "                <td></td>\n",
       "                <td></td>\n",
       "                <td></td>\n",
       "            </tr>\n",
       "            \n",
       "            <tr>\n",
       "                <td>6</td>\n",
       "                <td>lambda_</td>\n",
       "                <td>1.31602</td>\n",
       "                <td>0.0232426</td>\n",
       "                <td>0</td>\n",
       "                <td>0</td>\n",
       "                <td></td>\n",
       "                <td></td>\n",
       "                <td></td>\n",
       "            </tr>\n",
       "            \n",
       "            </table>\n",
       "        \n",
       "            <pre id=\"lqXAvvtVzb\" style=\"display:none;\">\n",
       "            <textarea rows=\"18\" cols=\"50\" onclick=\"this.select()\" readonly>\\begin{tabular}{|c|r|r|r|r|r|r|r|c|}\n",
       "\\hline\n",
       " & Name & Value & Para Error & Error+ & Error- & Limit+ & Limit- & FIXED\\\\\n",
       "\\hline\n",
       "1 & norm & 1.954e+04 & 2.064e+02 &  &  &  &  & \\\\\n",
       "\\hline\n",
       "2 & eped & 6.548e-01 & 5.501e-02 &  &  &  &  & \\\\\n",
       "\\hline\n",
       "3 & $eped_{\\sigma}$ & 2.102e+00 & 4.894e-02 &  &  &  &  & \\\\\n",
       "\\hline\n",
       "4 & spe & 1.407e+01 & 2.518e-01 &  &  &  &  & \\\\\n",
       "\\hline\n",
       "5 & $spe_{\\sigma}$ & 9.886e+00 & 1.789e-01 &  &  &  &  & \\\\\n",
       "\\hline\n",
       "6 & $\\lambda_{}$ & 1.316e+00 & 2.324e-02 &  &  &  &  & \\\\\n",
       "\\hline\n",
       "\\end{tabular}</textarea>\n",
       "            </pre>\n",
       "            "
      ]
     },
     "metadata": {},
     "output_type": "display_data"
    },
    {
     "data": {
      "text/html": [
       "<hr>"
      ]
     },
     "metadata": {},
     "output_type": "display_data"
    }
   ],
   "source": [
    "m1s.print_level = 1\n",
    "m1s.migrad();"
   ]
  },
  {
   "cell_type": "code",
   "execution_count": 18,
   "metadata": {
    "collapsed": false
   },
   "outputs": [
    {
     "data": {
      "text/plain": [
       "<matplotlib.colorbar.Colorbar at 0x11381b7f0>"
      ]
     },
     "execution_count": 18,
     "metadata": {},
     "output_type": "execute_result"
    },
    {
     "data": {
      "image/png": "[encoded data removed]",
      "text/plain": [
       "<matplotlib.figure.Figure at 0x1137dcbe0>"
      ]
     },
     "metadata": {},
     "output_type": "display_data"
    }
   ],
   "source": [
    "x, y, g, r = m1s.mncontour_grid('norm','lambda_', nsigma=3) # r is the raw data\n",
    "pcolormesh(x,y,g)\n",
    "colorbar()"
   ]
  },
  {
   "cell_type": "markdown",
   "metadata": {},
   "source": [
    "### Multi Fit"
   ]
  },
  {
   "cell_type": "code",
   "execution_count": 19,
   "metadata": {
    "collapsed": false
   },
   "outputs": [
    {
     "data": {
      "text/html": [
       "<hr>"
      ]
     },
     "metadata": {},
     "output_type": "display_data"
    },
    {
     "data": {
      "text/html": [
       "\n",
       "        <table>\n",
       "            <tr>\n",
       "                <td title=\"Minimum value of function\">FCN = 1182.5274248413984</td>\n",
       "                <td title=\"Total number of call to FCN so far\">TOTAL NCALL = 282</td>\n",
       "                <td title=\"Number of call in last migrad\">NCALLS = 282</td>\n",
       "            </tr>\n",
       "            <tr>\n",
       "                <td title=\"Estimated distance to minimum\">EDM = 4.718484169664488e-05</td>\n",
       "                <td title=\"Maximum EDM definition of convergence\">GOAL EDM = 1e-05</td>\n",
       "                <td title=\"Error def. Amount of increase in FCN to be defined as 1 standard deviation\">\n",
       "                UP = 1.0</td>\n",
       "            </tr>\n",
       "        </table>\n",
       "        \n",
       "        <table>\n",
       "            <tr>\n",
       "                <td align=\"center\" title=\"Validity of the migrad call\">Valid</td>\n",
       "                <td align=\"center\" title=\"Validity of parameters\">Valid Param</td>\n",
       "                <td align=\"center\" title=\"Is Covariance matrix accurate?\">Accurate Covar</td>\n",
       "                <td align=\"center\" title=\"Positive definiteness of covariance matrix\">PosDef</td>\n",
       "                <td align=\"center\" title=\"Was covariance matrix made posdef by adding diagonal element\">Made PosDef</td>\n",
       "            </tr>\n",
       "            <tr>\n",
       "                <td align=\"center\" style=\"background-color:#92CCA6\">True</td>\n",
       "                <td align=\"center\" style=\"background-color:#92CCA6\">True</td>\n",
       "                <td align=\"center\" style=\"background-color:#92CCA6\">True</td>\n",
       "                <td align=\"center\" style=\"background-color:#92CCA6\">True</td>\n",
       "                <td align=\"center\" style=\"background-color:#92CCA6\">False</td>\n",
       "            </tr>\n",
       "            <tr>\n",
       "                <td align=\"center\" title=\"Was last hesse call fail?\">Hesse Fail</td>\n",
       "                <td align=\"center\" title=\"Validity of covariance\">HasCov</td>\n",
       "                <td align=\"center\" title=\"Is EDM above goal EDM?\">Above EDM</td>\n",
       "                <td align=\"center\"></td>\n",
       "                <td align=\"center\" title=\"Did last migrad call reach max call limit?\">Reach calllim</td>\n",
       "            </tr>\n",
       "            <tr>\n",
       "                <td align=\"center\" style=\"background-color:#92CCA6\">False</td>\n",
       "                <td align=\"center\" style=\"background-color:#92CCA6\">True</td>\n",
       "                <td align=\"center\" style=\"background-color:#92CCA6\">False</td>\n",
       "                <td align=\"center\"></td>\n",
       "                <td align=\"center\" style=\"background-color:#92CCA6\">False</td>\n",
       "            </tr>\n",
       "        </table>\n",
       "        "
      ]
     },
     "metadata": {},
     "output_type": "display_data"
    },
    {
     "data": {
      "text/html": [
       "\n",
       "        <table>\n",
       "            <tr>\n",
       "                <td><a href=\"#\" onclick=\"$('#SwoiPYMzEk').toggle()\">+</a></td>\n",
       "                <td title=\"Variable name\">Name</td>\n",
       "                <td title=\"Value of parameter\">Value</td>\n",
       "                <td title=\"Parabolic error\">Parab Error</td>\n",
       "                <td title=\"Minos lower error\">Minos Error-</td>\n",
       "                <td title=\"Minos upper error\">Minos Error+</td>\n",
       "                <td title=\"Lower limit of the parameter\">Limit-</td>\n",
       "                <td title=\"Upper limit of the parameter\">Limit+</td>\n",
       "                <td title=\"Is the parameter fixed in the fit\">FIXED</td>\n",
       "            </tr>\n",
       "        \n",
       "            <tr>\n",
       "                <td>1</td>\n",
       "                <td>norm</td>\n",
       "                <td>19553.3</td>\n",
       "                <td>144.829</td>\n",
       "                <td>0</td>\n",
       "                <td>0</td>\n",
       "                <td></td>\n",
       "                <td></td>\n",
       "                <td></td>\n",
       "            </tr>\n",
       "            \n",
       "            <tr>\n",
       "                <td>2</td>\n",
       "                <td>eped</td>\n",
       "                <td>0.608653</td>\n",
       "                <td>0.030102</td>\n",
       "                <td>0</td>\n",
       "                <td>0</td>\n",
       "                <td></td>\n",
       "                <td></td>\n",
       "                <td></td>\n",
       "            </tr>\n",
       "            \n",
       "            <tr>\n",
       "                <td>3</td>\n",
       "                <td>eped_sigma</td>\n",
       "                <td>2.0685</td>\n",
       "                <td>0.0275903</td>\n",
       "                <td>0</td>\n",
       "                <td>0</td>\n",
       "                <td></td>\n",
       "                <td></td>\n",
       "                <td></td>\n",
       "            </tr>\n",
       "            \n",
       "            <tr>\n",
       "                <td>4</td>\n",
       "                <td>spe</td>\n",
       "                <td>14.2428</td>\n",
       "                <td>0.147068</td>\n",
       "                <td>0</td>\n",
       "                <td>0</td>\n",
       "                <td></td>\n",
       "                <td></td>\n",
       "                <td></td>\n",
       "            </tr>\n",
       "            \n",
       "            <tr>\n",
       "                <td>5</td>\n",
       "                <td>spe_sigma</td>\n",
       "                <td>9.85332</td>\n",
       "                <td>0.111176</td>\n",
       "                <td>0</td>\n",
       "                <td>0</td>\n",
       "                <td></td>\n",
       "                <td></td>\n",
       "                <td></td>\n",
       "            </tr>\n",
       "            \n",
       "            <tr>\n",
       "                <td>6</td>\n",
       "                <td>lambda_</td>\n",
       "                <td>1.31002</td>\n",
       "                <td>0.0178024</td>\n",
       "                <td>0</td>\n",
       "                <td>0</td>\n",
       "                <td></td>\n",
       "                <td></td>\n",
       "                <td></td>\n",
       "            </tr>\n",
       "            \n",
       "            <tr>\n",
       "                <td>7</td>\n",
       "                <td>norm2</td>\n",
       "                <td>19671.7</td>\n",
       "                <td>143.995</td>\n",
       "                <td>0</td>\n",
       "                <td>0</td>\n",
       "                <td></td>\n",
       "                <td></td>\n",
       "                <td></td>\n",
       "            </tr>\n",
       "            \n",
       "            <tr>\n",
       "                <td>8</td>\n",
       "                <td>lambda_2</td>\n",
       "                <td>1.21795</td>\n",
       "                <td>0.0161262</td>\n",
       "                <td>0</td>\n",
       "                <td>0</td>\n",
       "                <td></td>\n",
       "                <td></td>\n",
       "                <td></td>\n",
       "            </tr>\n",
       "            \n",
       "            <tr>\n",
       "                <td>9</td>\n",
       "                <td>norm3</td>\n",
       "                <td>19569.5</td>\n",
       "                <td>147.34</td>\n",
       "                <td>0</td>\n",
       "                <td>0</td>\n",
       "                <td></td>\n",
       "                <td></td>\n",
       "                <td></td>\n",
       "            </tr>\n",
       "            \n",
       "            <tr>\n",
       "                <td>10</td>\n",
       "                <td>lambda_3</td>\n",
       "                <td>1.18348</td>\n",
       "                <td>0.0157335</td>\n",
       "                <td>0</td>\n",
       "                <td>0</td>\n",
       "                <td></td>\n",
       "                <td></td>\n",
       "                <td></td>\n",
       "            </tr>\n",
       "            \n",
       "            </table>\n",
       "        \n",
       "            <pre id=\"SwoiPYMzEk\" style=\"display:none;\">\n",
       "            <textarea rows=\"26\" cols=\"50\" onclick=\"this.select()\" readonly>\\begin{tabular}{|c|r|r|r|r|r|r|r|c|}\n",
       "\\hline\n",
       " & Name & Value & Para Error & Error+ & Error- & Limit+ & Limit- & FIXED\\\\\n",
       "\\hline\n",
       "1 & norm & 1.955e+04 & 1.448e+02 &  &  &  &  & \\\\\n",
       "\\hline\n",
       "2 & eped & 6.087e-01 & 3.010e-02 &  &  &  &  & \\\\\n",
       "\\hline\n",
       "3 & $eped_{\\sigma}$ & 2.069e+00 & 2.759e-02 &  &  &  &  & \\\\\n",
       "\\hline\n",
       "4 & spe & 1.424e+01 & 1.471e-01 &  &  &  &  & \\\\\n",
       "\\hline\n",
       "5 & $spe_{\\sigma}$ & 9.853e+00 & 1.112e-01 &  &  &  &  & \\\\\n",
       "\\hline\n",
       "6 & $\\lambda_{}$ & 1.310e+00 & 1.780e-02 &  &  &  &  & \\\\\n",
       "\\hline\n",
       "7 & norm2 & 1.967e+04 & 1.440e+02 &  &  &  &  & \\\\\n",
       "\\hline\n",
       "8 & $\\lambda_{2}$ & 1.218e+00 & 1.613e-02 &  &  &  &  & \\\\\n",
       "\\hline\n",
       "9 & norm3 & 1.957e+04 & 1.473e+02 &  &  &  &  & \\\\\n",
       "\\hline\n",
       "10 & $\\lambda_{3}$ & 1.183e+00 & 1.573e-02 &  &  &  &  & \\\\\n",
       "\\hline\n",
       "\\end{tabular}</textarea>\n",
       "            </pre>\n",
       "            "
      ]
     },
     "metadata": {},
     "output_type": "display_data"
    },
    {
     "data": {
      "text/html": [
       "<hr>"
      ]
     },
     "metadata": {},
     "output_type": "display_data"
    }
   ],
   "source": [
    "x_data = np.hstack([between_a, between_a2, between_a3])\n",
    "y_data = np.hstack([hist_a, hist_a2, hist_a3])\n",
    "def minimizeMeMulti(norm, eped, eped_sigma, spe, spe_sigma, lambda_, norm2, lambda_2, norm3, lambda_3):\n",
    "    p = mapm_spe_fit_multi(x_data, norm, eped, eped_sigma, spe, spe_sigma, lambda_,  norm2, lambda_2, norm3, lambda_3)   \n",
    "    like = -2 * poisson.logpmf(y_data, p)\n",
    "    return np.sum(like)\n",
    "mm = iminuit.Minuit(minimizeMeMulti, norm=10000, eped=0, eped_sigma=5, spe=20, spe_sigma=5, lambda_=1, norm2=10000, lambda_2=1, norm3=10000, lambda_3=1, print_level=1, pedantic=False)\n",
    "mm.migrad();\n",
    "iminuit_y_result_all = mapm_spe_fit_multi(x_data, *mm.args)\n",
    "\n",
    "l1 = between_a.size\n",
    "l2 = between_a2.size\n",
    "l3 = between_a3.size\n",
    "\n",
    "iminuit_y_result_multi1 = iminuit_y_result_all[:l1]\n",
    "iminuit_y_result_multi2 = iminuit_y_result_all[l1:l1+l2]\n",
    "iminuit_y_result_multi3 = iminuit_y_result_all[l1+l2:l1+l2+l3]"
   ]
  },
  {
   "cell_type": "markdown",
   "metadata": {},
   "source": [
    "# Plotting\n",
    "\n",
    "## Single Fit"
   ]
  },
  {
   "cell_type": "code",
   "execution_count": 20,
   "metadata": {
    "collapsed": false
   },
   "outputs": [
    {
     "data": {
      "text/plain": [
       "<matplotlib.legend.Legend at 0x113aa3c88>"
      ]
     },
     "execution_count": 20,
     "metadata": {},
     "output_type": "execute_result"
    },
    {
     "data": {
      "image/png": "[encoded data removed]",
      "text/plain": [
       "<matplotlib.figure.Figure at 0x11394e860>"
      ]
     },
     "metadata": {},
     "output_type": "display_data"
    }
   ],
   "source": [
    "fig = plt.figure(figsize=(10, 10))\n",
    "ax_a = fig.add_subplot(1, 1, 1)\n",
    "ax_a.set_title('Pulse Area Spectrum')\n",
    "ax_a.set_xlabel('Integrated ADC')\n",
    "\n",
    "ax_a.hist(between_a, edges_a, weights=hist_a, alpha=0.4, label=\"Spectrum\")\n",
    "ax_a.plot(between_a, scipy_y_result, label=\"scipy\")\n",
    "ax_a.plot(between_a, symfit_y_result, label=\"symfit\")\n",
    "ax_a.plot(between_a, iminuit_y_result1, label=\"iminuit\")\n",
    "ax_a.legend(loc=1)"
   ]
  },
  {
   "cell_type": "markdown",
   "metadata": {},
   "source": [
    "Iminuit minimizes to a different value than the other fitters (even with identical initial values) as it uses a different method for minimization. Using different starting parameters could result in an identical fit, but it seems to be very difficult to reach the same minima.\n",
    "\n",
    "## Multi Fit"
   ]
  },
  {
   "cell_type": "code",
   "execution_count": 21,
   "metadata": {
    "collapsed": false
   },
   "outputs": [
    {
     "data": {
      "text/plain": [
       "<matplotlib.legend.Legend at 0x1141cde10>"
      ]
     },
     "execution_count": 21,
     "metadata": {},
     "output_type": "execute_result"
    },
    {
     "data": {
      "image/png": "[encoded data removed]",
      "text/plain": [
       "<matplotlib.figure.Figure at 0x1139fb320>"
      ]
     },
     "metadata": {},
     "output_type": "display_data"
    }
   ],
   "source": [
    "fig_m = plt.figure(figsize=(13, 10))\n",
    "ax_m1 = fig_m.add_subplot(1, 3, 1)\n",
    "ax_m1.set_title('Pulse Area Spectrum, Laser Setting 4.10')\n",
    "ax_m1.set_xlabel('Integrated ADC')\n",
    "ax_m2 = fig_m.add_subplot(1, 3, 2)\n",
    "ax_m2.set_title('Pulse Area Spectrum, Laser Setting 4.05')\n",
    "ax_m2.set_xlabel('Integrated ADC')\n",
    "ax_m3 = fig_m.add_subplot(1, 3, 3)\n",
    "ax_m3.set_title('Pulse Area Spectrum, Laser Setting 4.00')\n",
    "ax_m3.set_xlabel('Integrated ADC')\n",
    "\n",
    "ax_m1.hist(between_a, edges_a, weights=hist_a, alpha=0.4, label=\"Spectrum\")\n",
    "ax_m1.plot(between_a, scipy_y_result, label=\"scipy_single\")\n",
    "ax_m1.plot(between_a, symfit_y_result, label=\"symfit_single\")\n",
    "ax_m1.plot(between_a, iminuit_y_result1, label=\"iminuit_single\")\n",
    "ax_m1.plot(between_a, scipy_y_result_multi, label=\"scipy_multi\")\n",
    "ax_m1.plot(between_a, iminuit_y_result_multi1, label=\"iminuit_multi\")\n",
    "ax_m1.legend(loc=1)\n",
    "\n",
    "ax_m2.hist(between_a2, edges_a2, weights=hist_a2, alpha=0.4, label=\"Spectrum\")\n",
    "ax_m2.plot(between_a2, scipy_y_result2, label=\"scipy_single\")\n",
    "ax_m2.plot(between_a2, symfit_y_result2, label=\"symfit_single\")\n",
    "ax_m2.plot(between_a2, iminuit_y_result2, label=\"iminuit_single\")\n",
    "ax_m2.plot(between_a2, scipy_y_result_multi2, label=\"scipy_multi\")\n",
    "ax_m2.plot(between_a2, iminuit_y_result_multi2, label=\"iminuit_multi\")\n",
    "ax_m2.legend(loc=1)\n",
    "\n",
    "ax_m3.hist(between_a3, edges_a3, weights=hist_a3, alpha=0.4, label=\"Spectrum\")\n",
    "ax_m3.plot(between_a3, scipy_y_result3, label=\"scipy_single\")\n",
    "ax_m3.plot(between_a3, symfit_y_result3, label=\"symfit_single\")\n",
    "ax_m3.plot(between_a3, iminuit_y_result3, label=\"iminuit_single\")\n",
    "ax_m3.plot(between_a3, scipy_y_result_multi3, label=\"scipy_multi\")\n",
    "ax_m3.plot(between_a3, iminuit_y_result_multi3, label=\"iminuit_multi\")\n",
    "ax_m3.legend(loc=1)"
   ]
  },
  {
   "cell_type": "code",
   "execution_count": null,
   "metadata": {
    "collapsed": true
   },
   "outputs": [],
   "source": []
  }
 ],
 "metadata": {
  "kernelspec": {
   "display_name": "Python 3",
   "language": "python",
   "name": "python3"
  },
  "language_info": {
   "codemirror_mode": {
    "name": "ipython",
    "version": 3
   },
   "file_extension": ".py",
   "mimetype": "text/x-python",
   "name": "python",
   "nbconvert_exporter": "python",
   "pygments_lexer": "ipython3",
   "version": "3.5.2"
  }
 },
 "nbformat": 4,
 "nbformat_minor": 2
}
